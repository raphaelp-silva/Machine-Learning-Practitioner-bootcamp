{
  "nbformat": 4,
  "nbformat_minor": 0,
  "metadata": {
    "colab": {
      "provenance": [],
      "authorship_tag": "ABX9TyMp+Z8kuIoHved+XXzWMZA4",
      "include_colab_link": true
    },
    "kernelspec": {
      "name": "python3",
      "display_name": "Python 3"
    },
    "language_info": {
      "name": "python"
    }
  },
  "cells": [
    {
      "cell_type": "markdown",
      "metadata": {
        "id": "view-in-github",
        "colab_type": "text"
      },
      "source": [
        "<a href=\"https://colab.research.google.com/github/raphaelp-silva/Machine-Learning-Practitioner-bootcamp/blob/main/C%C3%A1lculo_de_M%C3%A9tricas_de_Avalia%C3%A7%C3%A3o_de_Aprendizado_.ipynb\" target=\"_parent\"><img src=\"https://colab.research.google.com/assets/colab-badge.svg\" alt=\"Open In Colab\"/></a>"
      ]
    },
    {
      "cell_type": "code",
      "execution_count": 1,
      "metadata": {
        "id": "hkcViXAFoebf"
      },
      "outputs": [],
      "source": [
        "from tensorflow.keras import datasets, layers, models\n",
        "import matplotlib.pyplot as plt\n",
        "import tensorflow as tf\n",
        "import numpy as np\n",
        "import seaborn as sns\n",
        "import pandas as pd\n",
        ""
      ]
    },
    {
      "cell_type": "code",
      "source": [
        "%load_ext tensorboard"
      ],
      "metadata": {
        "id": "Hw1-2VWuoq1c"
      },
      "execution_count": 2,
      "outputs": []
    },
    {
      "cell_type": "code",
      "source": [
        "logdir='log'"
      ],
      "metadata": {
        "id": "uztF1hMcowRM"
      },
      "execution_count": 3,
      "outputs": []
    },
    {
      "cell_type": "code",
      "source": [
        "(train_images, train_labels), (test_images, test_labels) = datasets.mnist.load_data()\n",
        "\n",
        "train_images = train_images.reshape((60000, 28, 28, 1))\n",
        "test_images = test_images.reshape((10000, 28, 28, 1))\n",
        "\n",
        "train_images, test_images = train_images / 255.0, test_images / 255.0\n",
        "\n",
        "classes=[0,1,2,3,4,5,6,7,8,9]"
      ],
      "metadata": {
        "colab": {
          "base_uri": "https://localhost:8080/"
        },
        "id": "MnFpxEmboxJt",
        "outputId": "1536cb85-1f86-42f4-f9c2-f5d5199d450f"
      },
      "execution_count": 4,
      "outputs": [
        {
          "output_type": "stream",
          "name": "stdout",
          "text": [
            "Downloading data from https://storage.googleapis.com/tensorflow/tf-keras-datasets/mnist.npz\n",
            "\u001b[1m11490434/11490434\u001b[0m \u001b[32m━━━━━━━━━━━━━━━━━━━━\u001b[0m\u001b[37m\u001b[0m \u001b[1m0s\u001b[0m 0us/step\n"
          ]
        }
      ]
    },
    {
      "cell_type": "code",
      "source": [
        "model = models.Sequential()\n",
        "model.add(layers.Conv2D(32, (3, 3), activation='relu', input_shape=(28, 28, 1)))\n",
        "model.add(layers.MaxPooling2D((2, 2)))\n",
        "model.add(layers.Conv2D(64, (3, 3), activation='relu'))\n",
        "model.add(layers.MaxPooling2D((2, 2)))\n",
        "model.add(layers.Conv2D(64, (3, 3), activation='relu'))\n",
        "\n",
        "model.add(layers.Flatten())\n",
        "model.add(layers.Dense(64, activation='relu'))\n",
        "model.add(layers.Dense(10, activation='softmax'))"
      ],
      "metadata": {
        "colab": {
          "base_uri": "https://localhost:8080/"
        },
        "id": "m-UwBRnpo_Hn",
        "outputId": "ae90a63a-f774-4035-a7c9-f7b7077c408b"
      },
      "execution_count": 5,
      "outputs": [
        {
          "output_type": "stream",
          "name": "stderr",
          "text": [
            "/usr/local/lib/python3.11/dist-packages/keras/src/layers/convolutional/base_conv.py:107: UserWarning: Do not pass an `input_shape`/`input_dim` argument to a layer. When using Sequential models, prefer using an `Input(shape)` object as the first layer in the model instead.\n",
            "  super().__init__(activity_regularizer=activity_regularizer, **kwargs)\n"
          ]
        }
      ]
    },
    {
      "cell_type": "code",
      "source": [
        "tensorboard_callback = tf.keras.callbacks.TensorBoard(logdir, histogram_freq=1)"
      ],
      "metadata": {
        "id": "s6zqmRCjpVKw"
      },
      "execution_count": 6,
      "outputs": []
    },
    {
      "cell_type": "code",
      "source": [
        "model.compile(optimizer='adam',\n",
        "              loss='sparse_categorical_crossentropy',\n",
        "              metrics=['accuracy'])\n",
        "\n",
        "model.fit(x=train_images,\n",
        "            y=train_labels,\n",
        "            epochs=1,\n",
        "            validation_data=(test_images, test_labels))"
      ],
      "metadata": {
        "colab": {
          "base_uri": "https://localhost:8080/"
        },
        "id": "NWrNkrf2pXdM",
        "outputId": "1800aaa2-984a-4403-99e9-3cf6c2422358"
      },
      "execution_count": 7,
      "outputs": [
        {
          "output_type": "stream",
          "name": "stdout",
          "text": [
            "\u001b[1m1875/1875\u001b[0m \u001b[32m━━━━━━━━━━━━━━━━━━━━\u001b[0m\u001b[37m\u001b[0m \u001b[1m65s\u001b[0m 34ms/step - accuracy: 0.8938 - loss: 0.3412 - val_accuracy: 0.9835 - val_loss: 0.0543\n"
          ]
        },
        {
          "output_type": "execute_result",
          "data": {
            "text/plain": [
              "<keras.src.callbacks.history.History at 0x7ac25fe0a690>"
            ]
          },
          "metadata": {},
          "execution_count": 7
        }
      ]
    },
    {
      "cell_type": "code",
      "source": [
        "y_true = test_labels\n",
        "y_pred = np.argmax(model.predict(test_images), axis=-1)"
      ],
      "metadata": {
        "colab": {
          "base_uri": "https://localhost:8080/"
        },
        "id": "YS-Cz_lAppuH",
        "outputId": "623b9e17-dc24-4bfe-fa32-bb23112e940d"
      },
      "execution_count": 9,
      "outputs": [
        {
          "output_type": "stream",
          "name": "stdout",
          "text": [
            "\u001b[1m313/313\u001b[0m \u001b[32m━━━━━━━━━━━━━━━━━━━━\u001b[0m\u001b[37m\u001b[0m \u001b[1m3s\u001b[0m 8ms/step\n"
          ]
        }
      ]
    },
    {
      "cell_type": "code",
      "source": [
        "classes=[0,1,2,3,4,5,6,7,8,9]"
      ],
      "metadata": {
        "id": "4uj-atmzp8uk"
      },
      "execution_count": 10,
      "outputs": []
    },
    {
      "cell_type": "code",
      "source": [
        "con_mat = tf.math.confusion_matrix(labels=y_true, predictions=y_pred).numpy()\n",
        "con_mat_norm = np.around(con_mat.astype('float') / con_mat.sum(axis=1)[:, np.newaxis], decimals=2)\n",
        "\n",
        "con_mat_df = pd.DataFrame(con_mat_norm,\n",
        "                     index = classes,\n",
        "                     columns = classes)\n",
        "\n",
        "figure = plt.figure(figsize=(8, 8))\n",
        "sns.heatmap(con_mat_df, annot=True,cmap=plt.cm.Blues)\n",
        "plt.tight_layout()\n",
        "plt.ylabel('True label')\n",
        "plt.xlabel('Predicted label')\n",
        "plt.show()"
      ],
      "metadata": {
        "colab": {
          "base_uri": "https://localhost:8080/",
          "height": 826
        },
        "id": "xIAi9q8MqBHR",
        "outputId": "43d2e29e-eb4b-4cda-9b89-1396f3128e2c"
      },
      "execution_count": 11,
      "outputs": [
        {
          "output_type": "display_data",
          "data": {
            "text/plain": [
              "<Figure size 800x800 with 2 Axes>"
            ],
            "image/png": "[encoded data removed]"
          },
          "metadata": {}
        }
      ]
    },
    {
      "cell_type": "code",
      "source": [
        "total_itens = con_mat.sum()\n",
        "epsilon = 1e-9\n",
        "\n",
        "FP = con_mat.sum(axis=0) - np.diag(con_mat)\n",
        "FN = con_mat.sum(axis=1) - np.diag(con_mat)\n",
        "VP = np.diag(con_mat)\n",
        "VN = con_mat.sum() - (FP + FN + VP)\n",
        "\n",
        "acuracia = (VP + VN) / (FP + FN + VP + VN)\n",
        "sensibilidade = VP / (VP + FN + epsilon)\n",
        "especificidade = VN / (VN + FP + epsilon)\n",
        "precisao = VP / (VP + FP + epsilon)\n",
        "f_score = 2 * (precisao * sensibilidade) / (precisao + sensibilidade + epsilon)\n",
        "\n",
        "print(\"Falsos Positivos: \", FP)\n",
        "print(\"Falsos Negativos: \", FN)\n",
        "print(\"Verdadeiros Positivos: \", VP)\n",
        "print(\"Verdadeiros Negativos: \", VN)\n",
        "print(\"\\nAcuracia por classe: \", acuracia)\n",
        "print(\"\\nSensibilidade (Recall): \", sensibilidade)\n",
        "print(\"\\nEspecificidade: \", especificidade)\n",
        "print(\"\\nPrecisão: \", precisao)\n",
        "print(\"\\nF1-score: \", f_score)\n",
        "\n",
        "print(\"\\nAcurácia Total: \", np.diag(con_mat).sum() / total_itens)"
      ],
      "metadata": {
        "colab": {
          "base_uri": "https://localhost:8080/"
        },
        "id": "OxDSpQHCqRFn",
        "outputId": "8942bb1f-460f-45bb-8081-85a10536767f"
      },
      "execution_count": 14,
      "outputs": [
        {
          "output_type": "stream",
          "name": "stdout",
          "text": [
            "Falsos Positivos:  [31  6 15 22 25 12  5 32 10  7]\n",
            "Falsos Negativos:  [ 2  8 10 14  3 24 17 13 26 48]\n",
            "Verdadeiros Positivos:  [ 978 1127 1022  996  979  868  941 1015  948  961]\n",
            "Verdadeiros Negativos:  [8989 8859 8953 8968 8993 9096 9037 8940 9016 8984]\n",
            "\n",
            "Acuracia por classe:  [0.9967 0.9986 0.9975 0.9964 0.9972 0.9964 0.9978 0.9955 0.9964 0.9945]\n",
            "\n",
            "Sensibilidade (Recall):  [0.99795918 0.99295154 0.99031008 0.98613861 0.99694501 0.97309417\n",
            " 0.9822547  0.98735409 0.97330595 0.95242815]\n",
            "\n",
            "Especificidade:  [0.99656319 0.99932318 0.99832739 0.99755284 0.99722777 0.99868248\n",
            " 0.99944702 0.99643335 0.99889209 0.99922144]\n",
            "\n",
            "Precisão:  [0.96927651 0.99470432 0.9855352  0.978389   0.9750996  0.98636364\n",
            " 0.99471459 0.96943649 0.98956159 0.9927686 ]\n",
            "\n",
            "F1-score:  [0.98340875 0.99382716 0.98791687 0.98224852 0.98590131 0.97968397\n",
            " 0.98844538 0.97831325 0.98136646 0.97218007]\n",
            "\n",
            "Acurácia Total:  0.9835\n"
          ]
        }
      ]
    }
  ]
}