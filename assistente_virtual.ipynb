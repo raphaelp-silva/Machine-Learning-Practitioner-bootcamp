{
  "nbformat": 4,
  "nbformat_minor": 0,
  "metadata": {
    "colab": {
      "provenance": [],
      "authorship_tag": "ABX9TyOKEFCUZ0NE8W1RFx68xNC1",
      "include_colab_link": true
    },
    "kernelspec": {
      "name": "python3",
      "display_name": "Python 3"
    },
    "language_info": {
      "name": "python"
    }
  },
  "cells": [
    {
      "cell_type": "markdown",
      "metadata": {
        "id": "view-in-github",
        "colab_type": "text"
      },
      "source": [
        "<a href=\"https://colab.research.google.com/github/raphaelp-silva/Machine-Learning-Practitioner-bootcamp/blob/main/assistente_virtual.ipynb\" target=\"_parent\"><img src=\"https://colab.research.google.com/assets/colab-badge.svg\" alt=\"Open In Colab\"/></a>"
      ]
    },
    {
      "cell_type": "code",
      "execution_count": null,
      "metadata": {
        "id": "OUDwiT7n8THj"
      },
      "outputs": [],
      "source": [
        "import os\n",
        "import sounddevice\n",
        "from gtts import gTTS\n",
        "from gtts.tokenizer.pre_processors import abbreviations, end_of_line\n",
        "from pygame import mixer\n",
        "import time\n",
        "import speech_recognition as sr\n",
        "from datetime import datetime\n",
        "import pyjokes\n",
        "import wikipedia\n",
        "import pyaudio\n",
        "import webbrowser"
      ]
    },
    {
      "cell_type": "code",
      "source": [
        "# Create the text\n",
        "text_to_say = \"How are you doing?.\"\n",
        "\n",
        "tts = gTTS(text_to_say, lang = \"en\", slow=False, pre_processor_funcs = [abbreviations, end_of_line])\n",
        "# Save the audio in a mp3 file\n",
        "tts.save('ingles.mp3')\n",
        "# Play the audio\n",
        "mixer.init()\n",
        "mixer.music.load(\"ingles.mp3\")\n",
        "mixer.music.play()\n",
        "# Wait for the audio to be played\n",
        "time.sleep(2)"
      ],
      "metadata": {
        "id": "2F7n_zpq8c9i"
      },
      "execution_count": null,
      "outputs": []
    },
    {
      "cell_type": "code",
      "source": [
        "french_text = \"Je vais au supermarché\"\n",
        "\n",
        "tts = gTTS(french_text, lang = \"fr\", slow=False, pre_processor_funcs = [abbreviations, end_of_line])\n",
        "# Save the audio in a mp3 file\n",
        "tts.save('frances.mp3')\n",
        "# Play the audio\n",
        "mixer.init()\n",
        "mixer.music.load(\"frances.mp3\")\n",
        "mixer.music.play()\n",
        "# Wait for the audio to be played\n",
        "time.sleep(2)"
      ],
      "metadata": {
        "id": "YTwxZlgB8eJ5"
      },
      "execution_count": null,
      "outputs": []
    },
    {
      "cell_type": "code",
      "source": [
        "#get mic audio\n",
        "def get_audio():\n",
        "\n",
        "    recognizer = sr.Recognizer()\n",
        "\n",
        "    with sr.Microphone() as source:\n",
        "\n",
        "        recognizer.adjust_for_ambient_noise(source, duration=1)\n",
        "        audio = recognizer.listen(source)\n",
        "\n",
        "        try:\n",
        "            said = recognizer.recognize_google(audio)\n",
        "            print(said)\n",
        "        except sr.UnknownValueError:\n",
        "            speak(\"Sorry, I did not get that.\")\n",
        "        except sr.RequestError:\n",
        "            speak(\"Sorry, the service is not available\")\n",
        "\n",
        "    return said.lower()"
      ],
      "metadata": {
        "id": "UAiLW7t_8ieL"
      },
      "execution_count": null,
      "outputs": []
    },
    {
      "cell_type": "code",
      "source": [
        "#speak converted audio to text\n",
        "\n",
        "def speak(text):\n",
        "\n",
        "    tts = gTTS(text=text, lang='en')\n",
        "    filename = \"voice.mp3\"\n",
        "    try:\n",
        "        os.remove(filename)\n",
        "    except OSError:\n",
        "        pass\n",
        "    tts.save(filename)\n",
        "    mixer.init()\n",
        "    mixer.music.load(filename)\n",
        "    mixer.music.play()\n",
        "    # Wait for the audio to be played\n",
        "    time.sleep(2)"
      ],
      "metadata": {
        "id": "QJLe41J38jE-"
      },
      "execution_count": null,
      "outputs": []
    },
    {
      "cell_type": "code",
      "source": [
        "#function to respond to commands\n",
        "def respond(text):\n",
        "    print(\"Text from get audio \" + text)\n",
        "    if 'youtube' in text:\n",
        "        speak(\"What do you want to search for?\")\n",
        "        keyword = get_audio()\n",
        "        if keyword!= '':\n",
        "            url = f\"https://www.youtube.com/results?search_query={keyword}\"\n",
        "            webbrowser.get().open(url)\n",
        "            speak(f\"Here is what I have found for {keyword} on youtube\")\n",
        "            print(f\"Here is what I have found for {keyword} on youtube\")\n",
        "\n",
        "    elif 'search' in text:\n",
        "        speak(\"What do you want to search for?\")\n",
        "        query = get_audio()\n",
        "        if query !='':\n",
        "            result = wikipedia.summary(query, sentences=3)\n",
        "            speak(\"According to wikipedia\")\n",
        "            print(result)\n",
        "            speak(result)\n",
        "    elif 'joke' in text:\n",
        "        joke = pyjokes.get_joke()\n",
        "        print(joke)\n",
        "        speak(joke)\n",
        "    elif 'what time' in text:\n",
        "        strTime = datetime.today().strftime(\"%H:%M %p\")\n",
        "        print(strTime)\n",
        "        speak(strTime)\n",
        "    elif 'exit' in text:\n",
        "        speak(\"Goodbye, till next time\")\n",
        "        exit()"
      ],
      "metadata": {
        "id": "dn-1J5Nr8lSY"
      },
      "execution_count": null,
      "outputs": []
    },
    {
      "cell_type": "code",
      "source": [
        "#let's try it\n",
        "#text = get_audio()\n",
        "#speak(text)\n",
        "while True:\n",
        "    print(\"I am listening...\")\n",
        "    text = get_audio()\n",
        "    respond(text)"
      ],
      "metadata": {
        "id": "eqkFvBB88ng0"
      },
      "execution_count": null,
      "outputs": []
    }
  ]
}